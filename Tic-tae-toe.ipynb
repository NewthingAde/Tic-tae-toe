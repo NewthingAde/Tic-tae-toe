{
 "cells": [
  {
   "cell_type": "markdown",
   "id": "f9a06c1e",
   "metadata": {},
   "source": [
    "# Tic Tac Toe Game"
   ]
  },
  {
   "cell_type": "code",
   "execution_count": 1,
   "id": "00cd6526",
   "metadata": {},
   "outputs": [],
   "source": [
    "import random"
   ]
  },
  {
   "cell_type": "code",
   "execution_count": 2,
   "id": "d62ccf24",
   "metadata": {},
   "outputs": [],
   "source": [
    "def display_board(board):\n",
    "    '''This function display the game board to the players. It only print the board to the user'''\n",
    "     \n",
    "    print('   |   |')\n",
    "    print(' ' + board[1] + ' | ' + board[2] + ' | ' + board[3])\n",
    "    print('   |   |')\n",
    "    print('------------')\n",
    "    print('   |   |')\n",
    "    print(' ' + board[4] + ' | ' + board[5] + ' | ' + board[6])\n",
    "    print('   |   |')\n",
    "    print('------------')\n",
    "    print('   |   |')\n",
    "    print(' ' + board[7] + ' | ' + board[8] + ' | ' + board[9])\n",
    "    print('   |   |')\n",
    "    \n",
    "    "
   ]
  },
  {
   "cell_type": "code",
   "execution_count": 3,
   "id": "7b28cadc",
   "metadata": {},
   "outputs": [],
   "source": [
    "test_board = [\"%\",\"X\",\"O\",\"X\",\"O\",\"X\",\"O\",\"X\",\"O\",\"X\"]"
   ]
  },
  {
   "cell_type": "code",
   "execution_count": 4,
   "id": "e26c9ef6",
   "metadata": {},
   "outputs": [],
   "source": [
    "def player_input():\n",
    "    '''This function will assign an identity to the user'''\n",
    "    marker = ''\n",
    "    while not (marker == 'X' or marker == 'O'):\n",
    "        marker = input(\"Player1: Do you want to be X or O?\").upper()\n",
    "        \n",
    "    if  marker =='X':\n",
    "        return ('X','O')\n",
    "    else:\n",
    "        return ('O','X')"
   ]
  },
  {
   "cell_type": "code",
   "execution_count": null,
   "id": "60277d0b",
   "metadata": {},
   "outputs": [],
   "source": []
  },
  {
   "cell_type": "code",
   "execution_count": 5,
   "id": "d43f32f9",
   "metadata": {},
   "outputs": [],
   "source": [
    "def place_marker(board, marker, position):\n",
    "    ''' This function will mark the board that has been taken'''\n",
    "    board[position] = marker"
   ]
  },
  {
   "cell_type": "code",
   "execution_count": 6,
   "id": "95f6cc42",
   "metadata": {},
   "outputs": [],
   "source": [
    "def win_check(board,mark):\n",
    "    '''\n",
    "    This function check for the winner of the game\n",
    "    '''\n",
    "    \n",
    "    return ((board[1] == mark and board[2] == mark and board[3] == mark) or     # across top\n",
    "    (board[4] == mark and board[5] == mark and board[6] == mark) or            # across middle\n",
    "    (board[7] == mark and board[8] == mark and board[9] == mark) or           # across bottom\n",
    "    (board[1] == mark and board[4] == mark and board[7] == mark) or          #down left\n",
    "    (board[2] == mark and board[5] == mark and board[8] == mark) or         #down middle\n",
    "    (board[3] == mark and board[6] == mark and board[9] == mark) or        #down right\n",
    "    (board[1] == mark and board[5] == mark and board[9] == mark) or       # diagonal\n",
    "    (board[3] == mark and board[5] == mark and board[7] == mark))        # diagonal"
   ]
  },
  {
   "cell_type": "code",
   "execution_count": 7,
   "id": "1323bc5f",
   "metadata": {},
   "outputs": [],
   "source": [
    "def choose_first():\n",
    "    '''This function is to choose the player that will play the game first'''\n",
    "    if random.randint(0,1) == 0:\n",
    "        return \"player 2\"\n",
    "    else:\n",
    "        return \"Player 1\""
   ]
  },
  {
   "cell_type": "code",
   "execution_count": 8,
   "id": "7667092a",
   "metadata": {},
   "outputs": [],
   "source": [
    "def space_check(board,position):\n",
    "    '''This function will check for the space on the game board'''\n",
    "    return board[position]== \" \""
   ]
  },
  {
   "cell_type": "code",
   "execution_count": 9,
   "id": "a2a9a511",
   "metadata": {},
   "outputs": [],
   "source": [
    "def full_board_check(board):\n",
    "    '''The function will loop through the  space_check() to get the empty space '''\n",
    "    for i in range(1,10):\n",
    "        if space_check(board, i):\n",
    "            return False\n",
    "    return True"
   ]
  },
  {
   "cell_type": "code",
   "execution_count": 10,
   "id": "ed85d468",
   "metadata": {},
   "outputs": [],
   "source": [
    "def player_choice(board):\n",
    "    '''The function will allow the user to choose the next position to play on the game board'''\n",
    "    position = 0\n",
    "    \n",
    "    while position not in [1,2,3,4,5,6,7,8,9] or not space_check(board, position):\n",
    "        position = int(input(\"Choose your next position (1-9)\"))\n",
    "        \n",
    "    return position"
   ]
  },
  {
   "cell_type": "code",
   "execution_count": 11,
   "id": "0541c33c",
   "metadata": {},
   "outputs": [],
   "source": [
    "def replay():\n",
    "    '''The function will allow the user to play the game over again '''\n",
    "    return input('Do you want to play again? Enter Yes or No').lower().startswith('y')"
   ]
  },
  {
   "cell_type": "code",
   "execution_count": 12,
   "id": "b8da5d68",
   "metadata": {},
   "outputs": [
    {
     "name": "stdout",
     "output_type": "stream",
     "text": [
      "Welcome to a the Tic Tac Toe\n",
      "Player1: Do you want to be X or O?\n",
      "Player1: Do you want to be X or O?x\n",
      "player 2 will go first\n",
      "Are you ready to play? Enter Yes or No.yes\n",
      "   |   |\n",
      "   |   |  \n",
      "   |   |\n",
      "------------\n",
      "   |   |\n",
      "   |   |  \n",
      "   |   |\n",
      "------------\n",
      "   |   |\n",
      "   |   |  \n",
      "   |   |\n",
      "Choose your next position (1-9)1\n",
      "   |   |\n",
      " O |   |  \n",
      "   |   |\n",
      "------------\n",
      "   |   |\n",
      "   |   |  \n",
      "   |   |\n",
      "------------\n",
      "   |   |\n",
      "   |   |  \n",
      "   |   |\n",
      "Choose your next position (1-9)5\n",
      "   |   |\n",
      " O |   |  \n",
      "   |   |\n",
      "------------\n",
      "   |   |\n",
      "   | X |  \n",
      "   |   |\n",
      "------------\n",
      "   |   |\n",
      "   |   |  \n",
      "   |   |\n",
      "Choose your next position (1-9)2\n",
      "   |   |\n",
      " O | O |  \n",
      "   |   |\n",
      "------------\n",
      "   |   |\n",
      "   | X |  \n",
      "   |   |\n",
      "------------\n",
      "   |   |\n",
      "   |   |  \n",
      "   |   |\n",
      "Choose your next position (1-9)4\n",
      "   |   |\n",
      " O | O |  \n",
      "   |   |\n",
      "------------\n",
      "   |   |\n",
      " X | X |  \n",
      "   |   |\n",
      "------------\n",
      "   |   |\n",
      "   |   |  \n",
      "   |   |\n",
      "Choose your next position (1-9)3\n",
      "   |   |\n",
      " O | O | O\n",
      "   |   |\n",
      "------------\n",
      "   |   |\n",
      " X | X |  \n",
      "   |   |\n",
      "------------\n",
      "   |   |\n",
      "   |   |  \n",
      "   |   |\n",
      "congratulations! player 2 have won the game! \n",
      "Do you want to play again? Enter Yes or Nono\n"
     ]
    }
   ],
   "source": [
    "## The game Drivers code\n",
    "\n",
    "print('Welcome to a the Tic Tac Toe')\n",
    "\n",
    "while True:\n",
    "    # Reset the board\n",
    "    theBoard = [\" \"] * 10\n",
    "    player1_marker, player2_marker = player_input()\n",
    "    turn = choose_first()\n",
    "    print(turn +\" will go first\")\n",
    "    \n",
    "    play_game = input(\"Are you ready to play? Enter Yes or No.\")\n",
    "    \n",
    "    if play_game.lower()[0] == 'y':\n",
    "        game_on = True\n",
    "    else: \n",
    "        game_on = False\n",
    "        \n",
    "    while game_on:\n",
    "        \n",
    "        # This is the loop for players 1's turn\n",
    "        \n",
    "        if turn == \"Player 1\":\n",
    "            display_board(theBoard)\n",
    "            position = player_choice(theBoard)\n",
    "            place_marker(theBoard, player1_marker, position)\n",
    "            if win_check(theBoard, player1_marker):\n",
    "                display_board(theBoard)\n",
    "                print(\"congratulations! Player 1 have won the game! \")\n",
    "                \n",
    "                #game_on = False can be used too instead of break\n",
    "                break\n",
    "            else:\n",
    "                if full_board_check(theBoard):\n",
    "                    display_board(theBoard)\n",
    "                    print(\"The Game is a draw! \")\n",
    "                    break\n",
    "                else:\n",
    "                    turn = \"Player 2\"\n",
    "        else:\n",
    "            \n",
    "        #This is the loop for player 2's  turn \n",
    "        \n",
    "            display_board(theBoard)\n",
    "            position = player_choice(theBoard)\n",
    "            place_marker(theBoard, player2_marker, position)\n",
    "            if win_check(theBoard, player2_marker):\n",
    "                display_board(theBoard)\n",
    "                print(\"congratulations! player 2 have won the game! \")\n",
    "                game_on = False\n",
    "            else:\n",
    "                if full_board_check(theBoard):\n",
    "                    display_board(theBoard)\n",
    "                    print(\"The Game is a draw! \")\n",
    "                    break\n",
    "                else:\n",
    "                    turn = \"Player 1\"\n",
    "    if not replay():\n",
    "        break"
   ]
  }
 ],
 "metadata": {
  "kernelspec": {
   "display_name": "Python 3 (ipykernel)",
   "language": "python",
   "name": "python3"
  },
  "language_info": {
   "codemirror_mode": {
    "name": "ipython",
    "version": 3
   },
   "file_extension": ".py",
   "mimetype": "text/x-python",
   "name": "python",
   "nbconvert_exporter": "python",
   "pygments_lexer": "ipython3",
   "version": "3.9.7"
  }
 },
 "nbformat": 4,
 "nbformat_minor": 5
}
